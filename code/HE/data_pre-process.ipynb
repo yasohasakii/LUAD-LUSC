{
 "cells": [
  {
   "cell_type": "markdown",
   "source": [
    "## Download TCGA-LUAD and TCGA-LUSC sliders\n",
    "*gdc_manifest.2024-04-26.txt* is the manifest file for sliders, please download via *GDC Data Transfer Tool*."
   ],
   "metadata": {
    "collapsed": false
   }
  },
  {
   "cell_type": "code",
   "execution_count": null,
   "outputs": [],
   "source": [],
   "metadata": {
    "collapsed": false
   }
  }
 ],
 "metadata": {
  "kernelspec": {
   "display_name": "Python 3",
   "language": "python",
   "name": "python3"
  },
  "language_info": {
   "codemirror_mode": {
    "name": "ipython",
    "version": 2
   },
   "file_extension": ".py",
   "mimetype": "text/x-python",
   "name": "python",
   "nbconvert_exporter": "python",
   "pygments_lexer": "ipython2",
   "version": "2.7.6"
  }
 },
 "nbformat": 4,
 "nbformat_minor": 0
}
